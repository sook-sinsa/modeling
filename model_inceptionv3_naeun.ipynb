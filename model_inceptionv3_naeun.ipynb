{
  "nbformat": 4,
  "nbformat_minor": 0,
  "metadata": {
    "accelerator": "GPU",
    "colab": {
      "name": "code_Naeun_byJuho.ipynb",
      "provenance": [],
      "collapsed_sections": [],
      "toc_visible": true
    },
    "kernelspec": {
      "display_name": "Python 3",
      "language": "python",
      "name": "python3"
    },
    "language_info": {
      "codemirror_mode": {
        "name": "ipython",
        "version": 3
      },
      "file_extension": ".py",
      "mimetype": "text/x-python",
      "name": "python",
      "nbconvert_exporter": "python",
      "pygments_lexer": "ipython3",
      "version": "3.8.3"
    }
  },
  "cells": [
    {
      "cell_type": "code",
      "metadata": {
        "colab": {
          "base_uri": "https://localhost:8080/"
        },
        "id": "Z14SLZh-29Ww",
        "outputId": "6c1d0c17-e3c7-4621-f59f-bc9b5e46e71b"
      },
      "source": [
        "from google.colab import drive\n",
        "drive.mount('/content/drive')"
      ],
      "execution_count": null,
      "outputs": [
        {
          "output_type": "stream",
          "text": [
            "Drive already mounted at /content/drive; to attempt to forcibly remount, call drive.mount(\"/content/drive\", force_remount=True).\n"
          ],
          "name": "stdout"
        }
      ]
    },
    {
      "cell_type": "code",
      "metadata": {
        "colab": {
          "base_uri": "https://localhost:8080/"
        },
        "id": "aIvnImlO7m1s",
        "outputId": "ca4e5e91-7a17-40a6-ac8d-4fa95c4fd5ea"
      },
      "source": [
        "import os\n",
        "import glob\n",
        "import numpy as np\n",
        "import pandas as pd\n",
        "from PIL import Image\n",
        "import matplotlib.pyplot as plt\n",
        "%matplotlib inline\n",
        "\n",
        "from sklearn.model_selection import train_test_split\n",
        "\n",
        "import tensorflow as tf\n",
        "from tensorflow import keras\n",
        "\n",
        "from tensorflow.keras import layers\n",
        "from keras.utils.vis_utils import model_to_dot\n",
        "from keras.applications import VGG19,ResNet50,InceptionV3\n",
        "from tensorflow.keras.layers import GlobalAveragePooling2D\n",
        "\n",
        "print(tf.__version__)"
      ],
      "execution_count": null,
      "outputs": [
        {
          "output_type": "stream",
          "text": [
            "2.4.0\n"
          ],
          "name": "stdout"
        }
      ]
    },
    {
      "cell_type": "code",
      "metadata": {
        "id": "X7E2Jsjh7m1x"
      },
      "source": [
        " #labelNames = ['ssleeve_dresscollarmerge', 'lsleeve_dresscollarmerge', 'nsleeve_dressmerge', 'hood', 'coat', 'jacket', 'lpadding', 'spadding', 'vest', 'cardigan', 'spants', 'lpants', 'skirt']\n",
        " #ssleeve_dressmerge,lsleeve_dressmerge,nsleeve_dressmerge,ssleeve_dresscollarmerge,lsleeve_dresscollarmerge\n",
        " #'jsuit', \n",
        " # classMatching = [([2, 9], [0], [1, 3, 4, 5, 6, 7, 8, 10], [13, 14], [15], [11, 12])]\n",
        "#  classDic = { 0:1, 1:2, 2:0, 3:2, 4:2, 5:2, 6:2, 7:2, 8:0, 9:2, 10:3, 11:3, 12:4}\n",
        "#  classNames = ['nsleeve', 'ssleeve', 'lsleeve', 'pants', 'skirt']\n",
        "\n",
        "#SiyeonCategory\n",
        "# labelNames = ['ssleeve','ssleevecollar','hood','coat','jacket','lpadding','spadding','lsleevecollar','cardigan','nsleeve','vest','lpants','spants','dress','jsuit','skirt']\n",
        "# classDic = { 0:0, 1:0, 2:1, 3:1, 4:1, 5:1, 6:1, 7:1, 8:1, 9:2, 10:2, 11:3, 12:3, 13:4, 14:4, 15:5 }\n",
        "# classNames = ['ssleeve', 'lsleeve', 'nsleeve', 'pants', 'dress', 'skirt']\n",
        "\n",
        "labelNames=['lsleeve','hood','coat','jacket','lpadding','spadding','lsleevecollar','cardigan']\n",
        "classDic ={0:0,1:1,2:2,3:3,4:4,5:5,6:6,7:7}\n",
        "classNames = ['lsleeve','hood','coat','jacket','lpadding','spadding','collar','cardigan']\n",
        "\n",
        "dir = \"/content/drive/My Drive/CNNdataset\""
      ],
      "execution_count": null,
      "outputs": []
    },
    {
      "cell_type": "code",
      "metadata": {
        "id": "aqSMY1PiNjOQ"
      },
      "source": [
        "# 전처리 없이 확인\r\n",
        "\r\n",
        "labelNames=['ssleeve','nsleeve','lsleeve','hood','collar']\r\n",
        "classDic ={0:0,1:1,2:2,3:3,4:4}\r\n",
        "classNames = ['ssleeve','nsleeve','lsleeve','hood','collar']\r\n",
        "\r\n",
        "dir = \"/content/drive/My Drive/smallmerge\""
      ],
      "execution_count": null,
      "outputs": []
    },
    {
      "cell_type": "code",
      "metadata": {
        "colab": {
          "base_uri": "https://localhost:8080/"
        },
        "id": "sD4-mGExN6Lp",
        "outputId": "6c4bb4da-3db0-4722-e628-070ca400af19"
      },
      "source": [
        "%cd '/content/drive/My Drive/smallmerge'"
      ],
      "execution_count": null,
      "outputs": [
        {
          "output_type": "stream",
          "text": [
            "/content/drive/My Drive/smallmerge\n"
          ],
          "name": "stdout"
        }
      ]
    },
    {
      "cell_type": "code",
      "metadata": {
        "colab": {
          "base_uri": "https://localhost:8080/"
        },
        "id": "F-yHWsUhl_C4",
        "outputId": "3a6ef0e5-82df-4207-c33c-d648b7c8c61b"
      },
      "source": [
        "%cd '/content/drive/My Drive/CNNdataset'\n",
        "#/imageData.npy"
      ],
      "execution_count": null,
      "outputs": [
        {
          "output_type": "stream",
          "text": [
            "/content/drive/My Drive/CNNdataset\n"
          ],
          "name": "stdout"
        }
      ]
    },
    {
      "cell_type": "code",
      "metadata": {
        "id": "TwLIu3rys04L"
      },
      "source": [
        "def sampling(data, per):\n",
        "    np.random.seed(123)\n",
        "    N = len(data)\n",
        "    sample_n = int(len(data)*per)\n",
        "    sample = data.take(np.random.permutation(N)[:sample_n])\n",
        "    return sample"
      ],
      "execution_count": null,
      "outputs": []
    },
    {
      "cell_type": "code",
      "metadata": {
        "colab": {
          "base_uri": "https://localhost:8080/"
        },
        "id": "nKZZNdYmVtF7",
        "outputId": "269f00ea-cbf5-457a-a3b8-242038dfcefb"
      },
      "source": [
        "x_train = []\n",
        "y_train = []\n",
        "x_test = []\n",
        "y_test = []\n",
        "fileNames = []\n",
        "\n",
        "for idx, cat in enumerate(labelNames):\n",
        "\n",
        "    label = [0 for i in range(len(classNames))]\n",
        "    label[classDic[idx]] = 1\n",
        "\n",
        "    imgDir = dir + \"/\" + cat\n",
        "    files = glob.glob(imgDir+\"/*.png\")\n",
        "    print(cat, \" 파일 길이 : \", len(files))\n",
        "    \n",
        "    i = 0\n",
        "    lst = []\n",
        "    for i in range(len(files)) :\n",
        "        lst.append(i)\n",
        "    lst = pd.DataFrame(lst, columns = ['idx'])\n",
        "\n",
        "    trainSet = lst.apply(sampling, per=0.95)\n",
        "    trainSet = trainSet.sort_index()\n",
        "\n",
        "    testSet = lst.drop(lst.index[trainSet.index])\n",
        "    testSet = testSet.sort_index()\n",
        "\n",
        "    trainSet = trainSet['idx'].values.tolist()\n",
        "    testSet = testSet['idx'].values.tolist()\n",
        "    \n",
        "    for f in range(len(trainSet)):\n",
        "        img = Image.open(files[trainSet[f]])\n",
        "        img = img.resize((125,125))\n",
        "        img = img.convert(\"RGB\")\n",
        "        data = np.asarray(img)\n",
        "\n",
        "        if f == 0:\n",
        "            print(label)\n",
        "            \n",
        "        x_train.append(data)\n",
        "        y_train.append(label)\n",
        "    \n",
        "    for f in range(len(testSet)):\n",
        "        img = Image.open(files[testSet[f]])\n",
        "        img = img.resize((125,125))\n",
        "        img = img.convert(\"RGB\")\n",
        "        data = np.asarray(img)\n",
        "        \n",
        "        if f == 0:\n",
        "            print(label)\n",
        "            \n",
        "        x_test.append(data)\n",
        "        y_test.append(label)\n",
        "\n",
        "        fileNames.append(files[testSet[f]])\n",
        "\n",
        "# for idx in range(16) :\n",
        "#     imgDir = dir + '/' + labelNames[idx]\n",
        "#     files = glob.glob(imgDir+\"/*.png\")\n",
        "#     print(\"파일 길이 : \", len(files))\n",
        "    \n",
        "#     for f in files:\n",
        "#         img = Image.open(f)\n",
        "#         img = img.convert(\"RGB\")\n",
        "#         data = np.asarray(img, np.int32)\n",
        "        \n",
        "#         label = np.zeros(16)\n",
        "#         label[idx] = 1\n",
        "        \n",
        "#         x.append(data)\n",
        "#         y.append(label)\n",
        "\n",
        "x_train = np.array(x_train)\n",
        "y_train = np.array(y_train)\n",
        "\n",
        "x_test = np.array(x_test)\n",
        "y_test = np.array(y_test)\n",
        "\n",
        "print(x_train.shape)\n",
        "print(y_train.shape)\n",
        "\n",
        "print(\"ok\", len(x_train), len(x_test))"
      ],
      "execution_count": null,
      "outputs": [
        {
          "output_type": "stream",
          "text": [
            "ssleeve  파일 길이 :  450\n",
            "[1, 0, 0, 0, 0]\n",
            "[1, 0, 0, 0, 0]\n",
            "nsleeve  파일 길이 :  450\n",
            "[0, 1, 0, 0, 0]\n",
            "[0, 1, 0, 0, 0]\n",
            "lsleeve  파일 길이 :  450\n",
            "[0, 0, 1, 0, 0]\n",
            "[0, 0, 1, 0, 0]\n",
            "hood  파일 길이 :  450\n",
            "[0, 0, 0, 1, 0]\n",
            "[0, 0, 0, 1, 0]\n",
            "collar  파일 길이 :  450\n",
            "[0, 0, 0, 0, 1]\n",
            "[0, 0, 0, 0, 1]\n",
            "(2135, 125, 125, 3)\n",
            "(2135, 5)\n",
            "ok 2135 115\n"
          ],
          "name": "stdout"
        }
      ]
    },
    {
      "cell_type": "code",
      "metadata": {
        "id": "dAxzAV-Q7m10"
      },
      "source": [
        "x_train = []\n",
        "y_train = []\n",
        "x_test = []\n",
        "y_test = []\n",
        "fileNames = []\n",
        "\n",
        "for idx, cat in enumerate(labelNames):\n",
        "\n",
        "    label = [0 for i in range(len(classNames))]\n",
        "    label[classDic[idx]] = 1\n",
        "\n",
        "    imgDir = dir + \"/\" + cat\n",
        "    files = glob.glob(imgDir+\"/*.png\")\n",
        "    print(cat, \" 파일 길이 : \", len(files))\n",
        "    for f in range(len(files)):\n",
        "        img = Image.open(files[f])\n",
        "        img = img.convert(\"RGB\")\n",
        "        img = img.transpose(Image.FLIP_LEFT_RIGHT)\n",
        "        data = np.asarray(img)\n",
        "        \n",
        "        if f >= 420:\n",
        "            fileNames.append(files[f])\n",
        "            x_test.append(data)\n",
        "            y_test.append(label)\n",
        "            \n",
        "        else :\n",
        "            x_train.append(data)\n",
        "            y_train.append(label)\n",
        "            \n",
        "        if f == 0:\n",
        "            print(label)\n",
        "\n",
        "# for idx in range(16) :\n",
        "#     imgDir = dir + '/' + labelNames[idx]\n",
        "#     files = glob.glob(imgDir+\"/*.png\")\n",
        "#     print(\"파일 길이 : \", len(files))\n",
        "    \n",
        "#     for f in files:\n",
        "#         img = Image.open(f)\n",
        "#         img = img.convert(\"RGB\")\n",
        "#         data = np.asarray(img, np.int32)\n",
        "        \n",
        "#         label = np.zeros(16)\n",
        "#         label[idx] = 1\n",
        "        \n",
        "#         x.append(data)\n",
        "#         y.append(label)\n",
        "\n",
        "x_train = np.array(x_train)\n",
        "y_train = np.array(y_train)\n",
        "\n",
        "x_test = np.array(x_test)\n",
        "y_test = np.array(y_test)\n",
        "\n",
        "\n",
        "print(x_train)\n",
        "print(x_train.shape)\n",
        "print(y_train.shape)\n",
        "\n",
        "print(\"ok\", len(x_train))"
      ],
      "execution_count": null,
      "outputs": []
    },
    {
      "cell_type": "code",
      "metadata": {
        "id": "oc5SfHXoKo-I"
      },
      "source": [
        "# x = []\n",
        "# y = []\n",
        "\n",
        "# for idx, cat in enumerate(classNames):\n",
        "    \n",
        "#     label = [0 for i in range(len(classNames))]\n",
        "#     label[idx] = 1\n",
        "\n",
        "#     imgDir = dir + '/' + cat\n",
        "#     print(imgDir)\n",
        "#     files = glob.glob(imgDir+\"/*.png\")\n",
        "#     print(cat, \" 파일 길이 : \", len(files))\n",
        "#     for i, f in enumerate(files):\n",
        "#         img = Image.open(f)\n",
        "#         img = img.convert(\"RGB\")\n",
        "#         data = np.asarray(img)\n",
        "\n",
        "#         x.append(data)\n",
        "#         y.append(label)\n",
        "\n",
        "# x = np.array(x)\n",
        "# y = np.array(y)\n",
        "\n",
        "# x_train, x_test, y_train, y_test = train_test_split(x, y, test_size = 0.2)\n",
        "# xy = (x_train, x_test, y_train, y_test)\n",
        "# np.save(\"imageData.npy\", xy)\n",
        "\n",
        "# print(\"ok\", len(y))"
      ],
      "execution_count": null,
      "outputs": []
    },
    {
      "cell_type": "code",
      "metadata": {
        "id": "l0fVqmjbvprY"
      },
      "source": [
        "np.savez(\"NoProcessingTest\", x_train = x_train, y_train = y_train, x_test = x_test, y_test = y_test)"
      ],
      "execution_count": null,
      "outputs": []
    },
    {
      "cell_type": "code",
      "metadata": {
        "colab": {
          "base_uri": "https://localhost:8080/"
        },
        "id": "BPAQhjNxZkUo",
        "outputId": "cb2fa764-e995-4d4b-f7c5-59469e958780"
      },
      "source": [
        "%cd /content"
      ],
      "execution_count": null,
      "outputs": [
        {
          "output_type": "stream",
          "text": [
            "/content\n"
          ],
          "name": "stdout"
        }
      ]
    },
    {
      "cell_type": "code",
      "metadata": {
        "colab": {
          "base_uri": "https://localhost:8080/"
        },
        "id": "C2zpryl67m12",
        "outputId": "16683848-f28d-4958-d366-5fef86dbe1e6"
      },
      "source": [
        "import os, glob, numpy as np\n",
        "from tensorflow.keras.models import Sequential\n",
        "from tensorflow.keras.layers import Conv2D, MaxPooling2D, Dense, Flatten, Dropout\n",
        "from tensorflow.keras.callbacks import EarlyStopping, ModelCheckpoint\n",
        "import matplotlib.pyplot as plt\n",
        "\n",
        "import tensorflow as tf\n",
        "config = tf.config.experimental\n",
        "\n",
        "imageLoad = np.load(\"/content/drive/MyDrive/CNNdataset/imageDataRaw.npz\")\n",
        "x_train = imageLoad['x_train']\n",
        "y_train = imageLoad['y_train']\n",
        "x_test = imageLoad['x_test']\n",
        "y_test = imageLoad['y_test']\n",
        "#x_train, x_test, y_train, y_test = np.load('augmenData.npz',allow_pickle=True)\n",
        "print(x_train.shape)\n",
        "print(x_test.shape)\n",
        "print(x_train[10].shape)\n",
        "#print(x_train)"
      ],
      "execution_count": null,
      "outputs": [
        {
          "output_type": "stream",
          "text": [
            "(16599, 125, 125, 3)\n",
            "(894, 125, 125, 3)\n",
            "(125, 125, 3)\n"
          ],
          "name": "stdout"
        }
      ]
    },
    {
      "cell_type": "code",
      "metadata": {
        "id": "PV5ajUAKsUoG"
      },
      "source": [
        "print(x_train[0])"
      ],
      "execution_count": null,
      "outputs": []
    },
    {
      "cell_type": "code",
      "metadata": {
        "colab": {
          "base_uri": "https://localhost:8080/"
        },
        "id": "P3GeginM6Spw",
        "outputId": "7502ba14-a198-45d0-e147-74f705bb7334"
      },
      "source": [
        "# 문제 데이터 확인\n",
        "\n",
        "for i in range(5738):\n",
        "  if x_train[i].shape != (125,125,3):\n",
        "\n",
        "    print(x_train[i].shape)"
      ],
      "execution_count": null,
      "outputs": [
        {
          "output_type": "stream",
          "text": [
            "(60, 64, 3)\n",
            "(37, 34, 3)\n",
            "(38, 41, 3)\n",
            "(38, 45, 3)\n",
            "(33, 36, 3)\n",
            "(61, 74, 3)\n",
            "(80, 83, 3)\n",
            "(66, 95, 3)\n",
            "(28, 36, 3)\n"
          ],
          "name": "stdout"
        }
      ]
    },
    {
      "cell_type": "code",
      "metadata": {
        "id": "vAXK19PH3kuq"
      },
      "source": [
        "# normalize\n",
        "x_train = x_train/255\n",
        "x_test = x_test/255"
      ],
      "execution_count": null,
      "outputs": []
    },
    {
      "cell_type": "code",
      "metadata": {
        "colab": {
          "base_uri": "https://localhost:8080/"
        },
        "id": "h0_NYHIniORk",
        "outputId": "b27ef337-00e9-44f6-8e8f-5aa24d377d19"
      },
      "source": [
        "# train 문제 데이터 resize 후 x_new에 새로 저장\n",
        "import cv2\n",
        "\n",
        "x_new = np.zeros((5738,125,125,3))\n",
        "for i in range(5738):\n",
        "  if x_train[i].shape == (125,125,3):\n",
        "    x_new[i] = x_train[i]\n",
        "  else:\n",
        "    x_new[i] = cv2.resize(x_train[i], dsize=(125, 125), interpolation=cv2.INTER_LINEAR)\n",
        "    print(x_new[i].shape)\n",
        "print(x_new.shape)"
      ],
      "execution_count": null,
      "outputs": [
        {
          "output_type": "stream",
          "text": [
            "(125, 125, 3)\n",
            "(125, 125, 3)\n",
            "(125, 125, 3)\n",
            "(125, 125, 3)\n",
            "(125, 125, 3)\n",
            "(125, 125, 3)\n",
            "(125, 125, 3)\n",
            "(125, 125, 3)\n",
            "(125, 125, 3)\n",
            "(5738, 125, 125, 3)\n"
          ],
          "name": "stdout"
        }
      ]
    },
    {
      "cell_type": "code",
      "metadata": {
        "colab": {
          "base_uri": "https://localhost:8080/"
        },
        "id": "imZX4ilGiR01",
        "outputId": "00a4ff3b-07b2-4c47-95fb-4b655dcb05f0"
      },
      "source": [
        "# test 문제 데이터 resize 후 x_newt에 새로 저장\n",
        "import cv2\n",
        "\n",
        "x_newt = np.zeros((1435,125,125,3))\n",
        "for i in range(1435):\n",
        "  if x_test[i].shape == (125,125,3):\n",
        "    x_newt[i] = x_test[i]\n",
        "  else:\n",
        "    x_newt[i] = cv2.resize(x_test[i], dsize=(125, 125), interpolation=cv2.INTER_LINEAR)\n",
        "    print(x_newt[i].shape)\n",
        "print(x_newt.shape)"
      ],
      "execution_count": null,
      "outputs": [
        {
          "output_type": "stream",
          "text": [
            "(125, 125, 3)\n",
            "(125, 125, 3)\n",
            "(125, 125, 3)\n",
            "(1435, 125, 125, 3)\n"
          ],
          "name": "stdout"
        }
      ]
    },
    {
      "cell_type": "code",
      "metadata": {
        "colab": {
          "base_uri": "https://localhost:8080/"
        },
        "id": "9h4GT8tXHPyX",
        "outputId": "0c374fe3-bb42-4aca-e71c-262b32bd94a0"
      },
      "source": [
        "print(y_train.shape[1])"
      ],
      "execution_count": null,
      "outputs": [
        {
          "output_type": "stream",
          "text": [
            "6\n"
          ],
          "name": "stdout"
        }
      ]
    },
    {
      "cell_type": "code",
      "metadata": {
        "id": "5phrpQifhSC2"
      },
      "source": [
        "base_model = InceptionV3(include_top=False,weights='imagenet',input_shape=(125,125,3),classes=y_train.shape[1])"
      ],
      "execution_count": null,
      "outputs": []
    },
    {
      "cell_type": "code",
      "metadata": {
        "colab": {
          "base_uri": "https://localhost:8080/"
        },
        "id": "4dnvYuWgheB2",
        "outputId": "438dc539-2853-4256-8878-9f136827a607"
      },
      "source": [
        "base_model.trainable = True\n",
        "\n",
        "print(\"Number of layers in the base model: \", len(base_model.layers))"
      ],
      "execution_count": null,
      "outputs": [
        {
          "output_type": "stream",
          "text": [
            "Number of layers in the base model:  311\n"
          ],
          "name": "stdout"
        }
      ]
    },
    {
      "cell_type": "code",
      "metadata": {
        "id": "oM1hDxH0iefK"
      },
      "source": [
        "# Fine tune from this layer onwards\n",
        "fine_tune_at = 15\n",
        "\n",
        "# Freeze all the layers before the `fine_tune_at` layer\n",
        "for layer in base_model.layers[:fine_tune_at]:\n",
        "    layer.trainable =  False"
      ],
      "execution_count": null,
      "outputs": []
    },
    {
      "cell_type": "code",
      "metadata": {
        "colab": {
          "base_uri": "https://localhost:8080/"
        },
        "id": "_4dAkd6bhg3E",
        "outputId": "0ee4ca07-2fa7-4553-e885-ce25b7b608a2"
      },
      "source": [
        "#first model\n",
        "model= Sequential()\n",
        "model.add(base_model)\n",
        "model.add(GlobalAveragePooling2D())\n",
        "model.add(Flatten())\n",
        "# model.add(activation=('relu'))\n",
        "# model.add(Dropout(0.5))\n",
        "# model.add(Dense(1024))\n",
        "\n",
        "# model.add(Activation('relu'))\n",
        "# model.add(Dropout(0.5))\n",
        "# model.add(Dense(512))\n",
        "# model.add(Activation('sigmoid'))\n",
        "\n",
        "model.add(Dense(1024,activation=('relu'),input_dim=512))\n",
        "model.add(Dense(512,activation=('relu')))\n",
        "model.add(Dropout(.8))\n",
        "model.add(Dense(256,activation=('swish')))\n",
        "model.add(Dense(6,activation=('softmax')))\n",
        "#이 윗줄 코드에 들어가는 숫자가 output category의 수\n",
        "\n",
        "model.compile(loss='categorical_crossentropy', optimizer='adam', metrics=['accuracy'])\n",
        "model_dir = './model'\n",
        "    \n",
        "if not os.path.exists(model_dir):\n",
        "    os.mkdir(model_dir)\n",
        "    \n",
        "model_path = model_dir + '/multi_img_classification.model'\n",
        "checkpoint = ModelCheckpoint(filepath=model_path , monitor='val_loss', verbose=1, save_best_only=True)\n",
        "early_stopping = EarlyStopping(monitor='val_loss', patience=6)\n",
        "print(model_path)"
      ],
      "execution_count": null,
      "outputs": [
        {
          "output_type": "stream",
          "text": [
            "./model/multi_img_classification.model\n"
          ],
          "name": "stdout"
        }
      ]
    },
    {
      "cell_type": "code",
      "metadata": {
        "colab": {
          "base_uri": "https://localhost:8080/"
        },
        "id": "O0yVk9-JLkBg",
        "outputId": "e3619d70-c822-4c09-8f29-c34d5f12cc3b"
      },
      "source": [
        "#2nd model\r\n",
        "model= Sequential()\r\n",
        "model.add(base_model)\r\n",
        "model.add(GlobalAveragePooling2D())\r\n",
        "\r\n",
        "model.add(Dense(512,activation=('relu'),input_dim=512))\r\n",
        "model.add(Dropout(.7))\r\n",
        "model.add(Dense(1024,activation=('relu')))\r\n",
        "model.add(Dense(256,activation=('swish')))\r\n",
        "model.add(Dense(7,activation=('softmax')))\r\n",
        "\r\n",
        "model.compile(loss='categorical_crossentropy', optimizer='adam', metrics=['accuracy'])\r\n",
        "model_dir = './model'\r\n",
        "    \r\n",
        "if not os.path.exists(model_dir):\r\n",
        "    os.mkdir(model_dir)\r\n",
        "    \r\n",
        "model_path = model_dir + '/multi_img_classification.model'\r\n",
        "checkpoint = ModelCheckpoint(filepath=model_path , monitor='val_loss', verbose=1, save_best_only=True)\r\n",
        "early_stopping = EarlyStopping(monitor='val_loss', patience=6)\r\n",
        "print(model_path)"
      ],
      "execution_count": null,
      "outputs": [
        {
          "output_type": "stream",
          "text": [
            "./model/multi_img_classification.model\n"
          ],
          "name": "stdout"
        }
      ]
    },
    {
      "cell_type": "code",
      "metadata": {
        "colab": {
          "base_uri": "https://localhost:8080/"
        },
        "id": "trFrttD9QMRh",
        "outputId": "50710550-2807-40f6-cbcc-a6a03dfb8def"
      },
      "source": [
        "#3rd model\r\n",
        "model= Sequential()\r\n",
        "model.add(base_model)\r\n",
        "model.add(GlobalAveragePooling2D())\r\n",
        "\r\n",
        "model.add(Dense(1024,activation=('relu'),input_dim=512))\r\n",
        "model.add(Dropout(.7))\r\n",
        "model.add(Dense(512,activation=('swish')))\r\n",
        "model.add(Dense(256,activation=('swish')))\r\n",
        "model.add(Dropout(.2))\r\n",
        "model.add(Dense(8,activation=('softmax')))\r\n",
        "\r\n",
        "model.compile(loss='categorical_crossentropy', optimizer='adam', metrics=['accuracy'])\r\n",
        "model_dir = './model'\r\n",
        "    \r\n",
        "if not os.path.exists(model_dir):\r\n",
        "    os.mkdir(model_dir)\r\n",
        "    \r\n",
        "model_path = model_dir + '/multi_img_classification.model'\r\n",
        "checkpoint = ModelCheckpoint(filepath=model_path , monitor='val_loss', verbose=1, save_best_only=True)\r\n",
        "early_stopping = EarlyStopping(monitor='val_loss', patience=6)\r\n",
        "print(model_path)"
      ],
      "execution_count": null,
      "outputs": [
        {
          "output_type": "stream",
          "text": [
            "./model/multi_img_classification.model\n"
          ],
          "name": "stdout"
        }
      ]
    },
    {
      "cell_type": "code",
      "metadata": {
        "colab": {
          "base_uri": "https://localhost:8080/"
        },
        "id": "UVFcgzItXU4Z",
        "outputId": "0f7d4dc4-70c6-466b-d577-7f81e84e7a53"
      },
      "source": [
        "#4th model\r\n",
        "model= Sequential()\r\n",
        "model.add(base_model)\r\n",
        "model.add(GlobalAveragePooling2D())\r\n",
        "\r\n",
        "model.add(Dense(1024,activation=('swish'),input_dim=512))\r\n",
        "model.add(Dropout(.7))\r\n",
        "model.add(Dense(512,activation=('relu')))\r\n",
        "model.add(Dense(256,activation=('swish')))\r\n",
        "model.add(Dropout(.2))\r\n",
        "model.add(Dense(8,activation=('softmax')))\r\n",
        "\r\n",
        "model.compile(loss='categorical_crossentropy', optimizer='adam', metrics=['accuracy'])\r\n",
        "model_dir = './model'\r\n",
        "    \r\n",
        "if not os.path.exists(model_dir):\r\n",
        "    os.mkdir(model_dir)\r\n",
        "    \r\n",
        "model_path = model_dir + '/multi_img_classification.model'\r\n",
        "checkpoint = ModelCheckpoint(filepath=model_path , monitor='val_loss', verbose=1, save_best_only=True)\r\n",
        "early_stopping = EarlyStopping(monitor='val_loss', patience=6)\r\n",
        "print(model_path)"
      ],
      "execution_count": null,
      "outputs": [
        {
          "output_type": "stream",
          "text": [
            "./model/multi_img_classification.model\n"
          ],
          "name": "stdout"
        }
      ]
    },
    {
      "cell_type": "code",
      "metadata": {
        "id": "5MUtohyz7m18"
      },
      "source": [
        "# model = Sequential()\n",
        "# model.add(Conv2D(32, (3,3), padding=\"same\", input_shape=x_train[0].shape, activation='relu'))\n",
        "# model.add(MaxPooling2D(pool_size=(2,2)))\n",
        "# model.add(Conv2D(32, (3,3), padding=\"same\", activation='relu'))\n",
        "# model.add(MaxPooling2D(pool_size=(2,2)))\n",
        "# model.add(Dropout(0.25))\n",
        "    \n",
        "# model.add(Conv2D(64, (3,3), padding=\"same\", activation='relu'))\n",
        "# model.add(MaxPooling2D(pool_size=(2,2)))\n",
        "# model.add(Conv2D(64, (3,3), padding=\"same\", activation='relu'))\n",
        "# model.add(MaxPooling2D(pool_size=(2,2)))\n",
        "# model.add(Dropout(0.25))\n",
        "\n",
        "# model.add(Conv2D(128, (3,3), padding=\"same\", activation='relu'))\n",
        "# model.add(MaxPooling2D(pool_size=(2,2)))\n",
        "# model.add(Conv2D(128, (3,3), padding=\"same\", activation='relu'))\n",
        "# model.add(MaxPooling2D(pool_size=(2,2)))\n",
        "# model.add(Dropout(0.25))\n",
        "    \n",
        "# model.add(Flatten())\n",
        "# model.add(Dense(256, activation='relu'))\n",
        "# model.add(Dropout(0.5))\n",
        "# model.add(Dense(len(classNames), activation='softmax'))\n",
        "# model.compile(loss='categorical_crossentropy', optimizer='adam', metrics=['accuracy'])\n",
        "# model_dir = './model'\n",
        "    \n",
        "# if not os.path.exists(model_dir):\n",
        "#     os.mkdir(model_dir)\n",
        "    \n",
        "# model_path = model_dir + '/multi_img_classification.model'\n",
        "# checkpoint = ModelCheckpoint(filepath=model_path , monitor='val_loss', verbose=1, save_best_only=True)\n",
        "# early_stopping = EarlyStopping(monitor='val_loss', patience=6)"
      ],
      "execution_count": null,
      "outputs": []
    },
    {
      "cell_type": "code",
      "metadata": {
        "colab": {
          "base_uri": "https://localhost:8080/"
        },
        "id": "X13t5r177m1_",
        "outputId": "121a7a2b-21f2-4b62-b1e4-fb6df8d5ce34"
      },
      "source": [
        "model.summary()"
      ],
      "execution_count": null,
      "outputs": [
        {
          "output_type": "stream",
          "text": [
            "Model: \"sequential\"\n",
            "_________________________________________________________________\n",
            "Layer (type)                 Output Shape              Param #   \n",
            "=================================================================\n",
            "inception_v3 (Functional)    (None, 2, 2, 2048)        21802784  \n",
            "_________________________________________________________________\n",
            "global_average_pooling2d (Gl (None, 2048)              0         \n",
            "_________________________________________________________________\n",
            "flatten (Flatten)            (None, 2048)              0         \n",
            "_________________________________________________________________\n",
            "dense (Dense)                (None, 1024)              2098176   \n",
            "_________________________________________________________________\n",
            "dense_1 (Dense)              (None, 512)               524800    \n",
            "_________________________________________________________________\n",
            "dropout (Dropout)            (None, 512)               0         \n",
            "_________________________________________________________________\n",
            "dense_2 (Dense)              (None, 256)               131328    \n",
            "_________________________________________________________________\n",
            "dense_3 (Dense)              (None, 5)                 1285      \n",
            "=================================================================\n",
            "Total params: 24,558,373\n",
            "Trainable params: 24,274,661\n",
            "Non-trainable params: 283,712\n",
            "_________________________________________________________________\n"
          ],
          "name": "stdout"
        }
      ]
    },
    {
      "cell_type": "code",
      "metadata": {
        "colab": {
          "base_uri": "https://localhost:8080/"
        },
        "id": "IF19f_if7m2C",
        "scrolled": false,
        "outputId": "b72bd029-b6a6-4327-85be-377263bea89d"
      },
      "source": [
        "history = model.fit(x_train, y_train, batch_size=32, epochs=30, validation_data=(x_test, y_test), callbacks=[checkpoint, early_stopping])"
      ],
      "execution_count": null,
      "outputs": [
        {
          "output_type": "stream",
          "text": [
            "Epoch 1/30\n"
          ],
          "name": "stdout"
        }
      ]
    },
    {
      "cell_type": "code",
      "metadata": {
        "colab": {
          "base_uri": "https://localhost:8080/"
        },
        "id": "6bLJIwKS7m2F",
        "outputId": "b605d7ae-1db4-4869-8f96-5016ff8e824e"
      },
      "source": [
        "print(\"정확도 : %.4f\" % (model.evaluate(x_test, y_test)[1]))"
      ],
      "execution_count": null,
      "outputs": [
        {
          "output_type": "stream",
          "text": [
            "4/4 [==============================] - 0s 42ms/step - loss: 1.3060 - accuracy: 0.6000\n",
            "정확도 : 0.6000\n"
          ],
          "name": "stdout"
        }
      ]
    },
    {
      "cell_type": "code",
      "metadata": {
        "id": "X4O5LNMjtwPn"
      },
      "source": [
        "from keras.models import load_model\n",
        "model.save('/content/drive/My Drive/smallmerge/NoProcessingTestModel.h5')"
      ],
      "execution_count": null,
      "outputs": []
    },
    {
      "cell_type": "code",
      "metadata": {
        "colab": {
          "base_uri": "https://localhost:8080/",
          "height": 279
        },
        "id": "IBxRSqcc7m2H",
        "outputId": "77c0fb9c-f6fc-4599-81ae-7e1fa8061c97"
      },
      "source": [
        "y_vloss = history.history['val_loss']\n",
        "y_loss = history.history['loss']\n",
        "\n",
        "x_len = np.arange(len(y_loss))\n",
        "\n",
        "plt.plot(x_len, y_vloss, marker='.', c='red', label='val_set_loss')\n",
        "plt.plot(x_len, y_loss, marker='.', c='blue', label='train_set_oss')\n",
        "plt.legend()\n",
        "plt.xlabel('epochs')\n",
        "plt.ylabel('loss')\n",
        "plt.grid()\n",
        "plt.show()"
      ],
      "execution_count": null,
      "outputs": [
        {
          "output_type": "display_data",
          "data": {
            "image/png": "[encoded data removed]",
            "text/plain": [
              "<Figure size 432x288 with 1 Axes>"
            ]
          },
          "metadata": {
            "tags": [],
            "needs_background": "light"
          }
        }
      ]
    },
    {
      "cell_type": "markdown",
      "metadata": {
        "id": "uP6r654uLwFQ"
      },
      "source": [
        "## test **확인**"
      ]
    },
    {
      "cell_type": "code",
      "metadata": {
        "colab": {
          "base_uri": "https://localhost:8080/"
        },
        "id": "EL0nXJsdJ0W2",
        "outputId": "b23a9990-78f6-4269-ddfd-2ecf9882bcf4"
      },
      "source": [
        "print(classNames[3])"
      ],
      "execution_count": null,
      "outputs": [
        {
          "output_type": "stream",
          "text": [
            "lpadding\n"
          ],
          "name": "stdout"
        }
      ]
    },
    {
      "cell_type": "code",
      "metadata": {
        "colab": {
          "base_uri": "https://localhost:8080/"
        },
        "id": "lDyjiXBuKV6b",
        "outputId": "1caccb94-08e9-4b77-ce67-70642f3c0b4a"
      },
      "source": [
        "from PIL import Image\r\n",
        "import os, glob, numpy as np\r\n",
        "from tensorflow.keras.models import load_model\r\n",
        "model = load_model('/content/drive/My Drive/smallmerge/NoProcessingTestModel.h5')\r\n",
        "\r\n",
        "prediction = model.predict(x_test)\r\n",
        "print(prediction[0][4])\r\n",
        "np.set_printoptions(formatter={'float': lambda x: \"{0:0.3f}\".format(x)})\r\n"
      ],
      "execution_count": null,
      "outputs": [
        {
          "output_type": "stream",
          "text": [
            "0.25873092\n"
          ],
          "name": "stdout"
        }
      ]
    },
    {
      "cell_type": "code",
      "metadata": {
        "id": "44nknoc_Lsrq",
        "colab": {
          "base_uri": "https://localhost:8080/"
        },
        "outputId": "a8f3006e-f84f-49d0-961c-a574dc98a12c"
      },
      "source": [
        "cnt = 0\n",
        "right = 0\n",
        "for i in prediction:\n",
        "    pre_ans = i.argmax()  # 예측 레이블\n",
        "    # tmp = i.sort(reverse=True)\n",
        "    print(i)\n",
        "    print(pre_ans)\n",
        "\n",
        "    if i[0] >= 0.5 :\n",
        "      print(\"해당 \"+fileNames[cnt].split(\"\\\\\")[0]+\"이미지는 \"+classNames[0]+\"로 추정됩니다.\")\n",
        "      right += 1\n",
        "    if i[1] >= 0.5:\n",
        "      print(\"해당 \"+fileNames[cnt].split(\"\\\\\")[0]+\"이미지는 \"+classNames[1]+\"으로 추정됩니다.\")\n",
        "      right += 1\n",
        "    if i[2] >= 0.5:\n",
        "      print(\"해당 \"+fileNames[cnt].split(\"\\\\\")[0]+\"이미지는 \"+classNames[2]+\"으로 추정됩니다.\")\n",
        "      right += 1\n",
        "    if i[3] >= 0.5:\n",
        "      print(\"해당 \"+fileNames[cnt].split(\"\\\\\")[0]+\"이미지는 \"+classNames[3]+\"으로 추정됩니다.\")\n",
        "      right += 1\n",
        "    if i[4] >= 0.5:\n",
        "      print(\"해당 \"+fileNames[cnt].split(\"\\\\\")[0]+\"이미지는 \"+classNames[4]+\"으로 추정됩니다.\")\n",
        "      right += 1\n",
        "#    if i[5] >= 0.8: print(\"해당 \"+fileNames[cnt].split(\"\\\\\")[0]+\"이미지는 \"+classNames[5]+\"으로 추정됩니다.\")\n",
        "#    if i[6] >= 0.8: print(\"해당 \"+fileNames[cnt].split(\"\\\\\")[0]+\"이미지는 \"+classNames[6]+\"으로 추정됩니다.\")\n",
        "    if cnt==150 :\n",
        "      break;\n",
        "\n",
        "    cnt += 1\n",
        "    print(\"=\"*40)\n",
        "print(right)"
      ],
      "execution_count": null,
      "outputs": [
        {
          "output_type": "stream",
          "text": [
            "[0.110 0.141 0.198 0.293 0.259]\n",
            "3\n",
            "========================================\n",
            "[0.042 0.068 0.177 0.666 0.047]\n",
            "3\n",
            "해당 /content/drive/My Drive/smallmerge/ssleeve/126.png이미지는 hood으로 추정됩니다.\n",
            "========================================\n",
            "[0.149 0.370 0.349 0.058 0.075]\n",
            "1\n",
            "========================================\n",
            "[0.605 0.130 0.228 0.009 0.028]\n",
            "0\n",
            "해당 /content/drive/My Drive/smallmerge/ssleeve/112.png이미지는 ssleeve로 추정됩니다.\n",
            "========================================\n",
            "[0.124 0.216 0.506 0.088 0.065]\n",
            "2\n",
            "해당 /content/drive/My Drive/smallmerge/ssleeve/302.png이미지는 lsleeve으로 추정됩니다.\n",
            "========================================\n",
            "[0.143 0.195 0.520 0.086 0.057]\n",
            "2\n",
            "해당 /content/drive/My Drive/smallmerge/ssleeve/303.png이미지는 lsleeve으로 추정됩니다.\n",
            "========================================\n",
            "[0.870 0.035 0.072 0.002 0.021]\n",
            "0\n",
            "해당 /content/drive/My Drive/smallmerge/ssleeve/309.png이미지는 ssleeve로 추정됩니다.\n",
            "========================================\n",
            "[0.046 0.069 0.206 0.623 0.056]\n",
            "3\n",
            "해당 /content/drive/My Drive/smallmerge/ssleeve/268.png이미지는 hood으로 추정됩니다.\n",
            "========================================\n",
            "[0.000 0.000 0.000 1.000 0.000]\n",
            "3\n",
            "해당 /content/drive/My Drive/smallmerge/ssleeve/299.png이미지는 hood으로 추정됩니다.\n",
            "========================================\n",
            "[0.032 0.873 0.068 0.014 0.013]\n",
            "1\n",
            "해당 /content/drive/My Drive/smallmerge/ssleeve/267.png이미지는 nsleeve으로 추정됩니다.\n",
            "========================================\n",
            "[0.954 0.014 0.021 0.000 0.011]\n",
            "0\n",
            "해당 /content/drive/My Drive/smallmerge/ssleeve/247.png이미지는 ssleeve로 추정됩니다.\n",
            "========================================\n",
            "[0.128 0.170 0.583 0.057 0.063]\n",
            "2\n",
            "해당 /content/drive/My Drive/smallmerge/ssleeve/278.png이미지는 lsleeve으로 추정됩니다.\n",
            "========================================\n",
            "[0.401 0.219 0.181 0.059 0.140]\n",
            "0\n",
            "========================================\n",
            "[0.114 0.170 0.506 0.156 0.055]\n",
            "2\n",
            "해당 /content/drive/My Drive/smallmerge/ssleeve/163.png이미지는 lsleeve으로 추정됩니다.\n",
            "========================================\n",
            "[0.051 0.077 0.210 0.604 0.058]\n",
            "3\n",
            "해당 /content/drive/My Drive/smallmerge/ssleeve/274.png이미지는 hood으로 추정됩니다.\n",
            "========================================\n",
            "[0.028 0.040 0.122 0.770 0.040]\n",
            "3\n",
            "해당 /content/drive/My Drive/smallmerge/ssleeve/31.png이미지는 hood으로 추정됩니다.\n",
            "========================================\n",
            "[0.144 0.183 0.552 0.067 0.054]\n",
            "2\n",
            "해당 /content/drive/My Drive/smallmerge/ssleeve/273.png이미지는 lsleeve으로 추정됩니다.\n",
            "========================================\n",
            "[0.072 0.084 0.240 0.547 0.058]\n",
            "3\n",
            "해당 /content/drive/My Drive/smallmerge/ssleeve/410.png이미지는 hood으로 추정됩니다.\n",
            "========================================\n",
            "[0.001 0.001 0.008 0.988 0.003]\n",
            "3\n",
            "해당 /content/drive/My Drive/smallmerge/ssleeve/81.png이미지는 hood으로 추정됩니다.\n",
            "========================================\n",
            "[0.003 0.004 0.024 0.959 0.010]\n",
            "3\n",
            "해당 /content/drive/My Drive/smallmerge/ssleeve/409.png이미지는 hood으로 추정됩니다.\n",
            "========================================\n",
            "[0.000 0.000 0.001 0.998 0.001]\n",
            "3\n",
            "해당 /content/drive/My Drive/smallmerge/ssleeve/406.png이미지는 hood으로 추정됩니다.\n",
            "========================================\n",
            "[0.173 0.377 0.390 0.024 0.036]\n",
            "2\n",
            "========================================\n",
            "[0.736 0.071 0.170 0.004 0.020]\n",
            "0\n",
            "해당 /content/drive/My Drive/smallmerge/ssleeve/80.png이미지는 ssleeve로 추정됩니다.\n",
            "========================================\n",
            "[0.005 0.964 0.029 0.001 0.002]\n",
            "1\n",
            "해당 /content/drive/My Drive/smallmerge/nsleeve/266.png이미지는 nsleeve으로 추정됩니다.\n",
            "========================================\n",
            "[0.003 0.967 0.028 0.001 0.001]\n",
            "1\n",
            "해당 /content/drive/My Drive/smallmerge/nsleeve/154.png이미지는 nsleeve으로 추정됩니다.\n",
            "========================================\n",
            "[0.059 0.722 0.159 0.045 0.015]\n",
            "1\n",
            "해당 /content/drive/My Drive/smallmerge/nsleeve/358.png이미지는 nsleeve으로 추정됩니다.\n",
            "========================================\n",
            "[0.036 0.860 0.071 0.017 0.016]\n",
            "1\n",
            "해당 /content/drive/My Drive/smallmerge/nsleeve/204.png이미지는 nsleeve으로 추정됩니다.\n",
            "========================================\n",
            "[0.029 0.881 0.081 0.003 0.006]\n",
            "1\n",
            "해당 /content/drive/My Drive/smallmerge/nsleeve/124.png이미지는 nsleeve으로 추정됩니다.\n",
            "========================================\n",
            "[0.015 0.934 0.046 0.002 0.003]\n",
            "1\n",
            "해당 /content/drive/My Drive/smallmerge/nsleeve/259.png이미지는 nsleeve으로 추정됩니다.\n",
            "========================================\n",
            "[0.003 0.968 0.026 0.001 0.001]\n",
            "1\n",
            "해당 /content/drive/My Drive/smallmerge/nsleeve/243.png이미지는 nsleeve으로 추정됩니다.\n",
            "========================================\n",
            "[0.071 0.725 0.120 0.044 0.040]\n",
            "1\n",
            "해당 /content/drive/My Drive/smallmerge/nsleeve/312.png이미지는 nsleeve으로 추정됩니다.\n",
            "========================================\n",
            "[0.033 0.853 0.097 0.010 0.007]\n",
            "1\n",
            "해당 /content/drive/My Drive/smallmerge/nsleeve/319.png이미지는 nsleeve으로 추정됩니다.\n",
            "========================================\n",
            "[0.002 0.978 0.019 0.000 0.001]\n",
            "1\n",
            "해당 /content/drive/My Drive/smallmerge/nsleeve/304.png이미지는 nsleeve으로 추정됩니다.\n",
            "========================================\n",
            "[0.002 0.976 0.021 0.000 0.001]\n",
            "1\n",
            "해당 /content/drive/My Drive/smallmerge/nsleeve/264.png이미지는 nsleeve으로 추정됩니다.\n",
            "========================================\n",
            "[0.005 0.961 0.031 0.001 0.002]\n",
            "1\n",
            "해당 /content/drive/My Drive/smallmerge/nsleeve/250.png이미지는 nsleeve으로 추정됩니다.\n",
            "========================================\n",
            "[0.009 0.948 0.037 0.003 0.003]\n",
            "1\n",
            "해당 /content/drive/My Drive/smallmerge/nsleeve/125.png이미지는 nsleeve으로 추정됩니다.\n",
            "========================================\n",
            "[0.001 0.983 0.015 0.000 0.000]\n",
            "1\n",
            "해당 /content/drive/My Drive/smallmerge/nsleeve/146.png이미지는 nsleeve으로 추정됩니다.\n",
            "========================================\n",
            "[0.139 0.441 0.357 0.032 0.031]\n",
            "1\n",
            "========================================\n",
            "[0.005 0.961 0.031 0.001 0.002]\n",
            "1\n",
            "해당 /content/drive/My Drive/smallmerge/nsleeve/255.png이미지는 nsleeve으로 추정됩니다.\n",
            "========================================\n",
            "[0.031 0.872 0.068 0.015 0.014]\n",
            "1\n",
            "해당 /content/drive/My Drive/smallmerge/nsleeve/153.png이미지는 nsleeve으로 추정됩니다.\n",
            "========================================\n",
            "[0.007 0.957 0.032 0.002 0.003]\n",
            "1\n",
            "해당 /content/drive/My Drive/smallmerge/nsleeve/444.png이미지는 nsleeve으로 추정됩니다.\n",
            "========================================\n",
            "[0.036 0.196 0.101 0.648 0.019]\n",
            "3\n",
            "해당 /content/drive/My Drive/smallmerge/nsleeve/436.png이미지는 hood으로 추정됩니다.\n",
            "========================================\n",
            "[0.001 0.984 0.015 0.000 0.000]\n",
            "1\n",
            "해당 /content/drive/My Drive/smallmerge/nsleeve/376.png이미지는 nsleeve으로 추정됩니다.\n",
            "========================================\n",
            "[0.056 0.412 0.147 0.362 0.023]\n",
            "1\n",
            "========================================\n",
            "[0.001 0.979 0.019 0.000 0.001]\n",
            "1\n",
            "해당 /content/drive/My Drive/smallmerge/nsleeve/422.png이미지는 nsleeve으로 추정됩니다.\n",
            "========================================\n",
            "[0.006 0.957 0.032 0.002 0.002]\n",
            "1\n",
            "해당 /content/drive/My Drive/smallmerge/nsleeve/60.png이미지는 nsleeve으로 추정됩니다.\n",
            "========================================\n",
            "[0.060 0.080 0.715 0.083 0.062]\n",
            "2\n",
            "해당 /content/drive/My Drive/smallmerge/lsleeve/105.png이미지는 lsleeve으로 추정됩니다.\n",
            "========================================\n",
            "[0.058 0.063 0.179 0.441 0.259]\n",
            "3\n",
            "========================================\n",
            "[0.004 0.963 0.029 0.001 0.002]\n",
            "1\n",
            "해당 /content/drive/My Drive/smallmerge/lsleeve/122.png이미지는 nsleeve으로 추정됩니다.\n",
            "========================================\n",
            "[0.049 0.085 0.807 0.032 0.027]\n",
            "2\n",
            "해당 /content/drive/My Drive/smallmerge/lsleeve/0.png이미지는 lsleeve으로 추정됩니다.\n",
            "========================================\n",
            "[0.012 0.009 0.970 0.004 0.004]\n",
            "2\n",
            "해당 /content/drive/My Drive/smallmerge/lsleeve/50.png이미지는 lsleeve으로 추정됩니다.\n",
            "========================================\n",
            "[0.025 0.002 0.027 0.028 0.919]\n",
            "4\n",
            "해당 /content/drive/My Drive/smallmerge/lsleeve/44.png이미지는 collar으로 추정됩니다.\n",
            "========================================\n",
            "[0.086 0.244 0.520 0.083 0.066]\n",
            "2\n",
            "해당 /content/drive/My Drive/smallmerge/lsleeve/60.png이미지는 lsleeve으로 추정됩니다.\n",
            "========================================\n",
            "[0.122 0.516 0.291 0.031 0.041]\n",
            "1\n",
            "해당 /content/drive/My Drive/smallmerge/lsleeve/3.png이미지는 nsleeve으로 추정됩니다.\n",
            "========================================\n",
            "[0.032 0.031 0.907 0.016 0.015]\n",
            "2\n",
            "해당 /content/drive/My Drive/smallmerge/lsleeve/59.png이미지는 lsleeve으로 추정됩니다.\n",
            "========================================\n",
            "[0.040 0.068 0.826 0.040 0.025]\n",
            "2\n",
            "해당 /content/drive/My Drive/smallmerge/lsleeve/86.png이미지는 lsleeve으로 추정됩니다.\n",
            "========================================\n",
            "[0.063 0.747 0.142 0.023 0.025]\n",
            "1\n",
            "해당 /content/drive/My Drive/smallmerge/lsleeve/85.png이미지는 nsleeve으로 추정됩니다.\n",
            "========================================\n",
            "[0.132 0.250 0.251 0.194 0.173]\n",
            "2\n",
            "========================================\n",
            "[0.047 0.078 0.832 0.022 0.021]\n",
            "2\n",
            "해당 /content/drive/My Drive/smallmerge/lsleeve/8.png이미지는 lsleeve으로 추정됩니다.\n",
            "========================================\n",
            "[0.078 0.148 0.644 0.070 0.060]\n",
            "2\n",
            "해당 /content/drive/My Drive/smallmerge/lsleeve/263.png이미지는 lsleeve으로 추정됩니다.\n",
            "========================================\n",
            "[0.086 0.245 0.565 0.053 0.051]\n",
            "2\n",
            "해당 /content/drive/My Drive/smallmerge/lsleeve/153.png이미지는 lsleeve으로 추정됩니다.\n",
            "========================================\n",
            "[0.046 0.070 0.827 0.030 0.027]\n",
            "2\n",
            "해당 /content/drive/My Drive/smallmerge/lsleeve/260.png이미지는 lsleeve으로 추정됩니다.\n",
            "========================================\n",
            "[0.051 0.080 0.813 0.028 0.028]\n",
            "2\n",
            "해당 /content/drive/My Drive/smallmerge/lsleeve/163.png이미지는 lsleeve으로 추정됩니다.\n",
            "========================================\n",
            "[0.125 0.303 0.226 0.187 0.159]\n",
            "1\n",
            "========================================\n",
            "[0.081 0.087 0.271 0.371 0.190]\n",
            "3\n",
            "========================================\n",
            "[0.038 0.037 0.887 0.020 0.019]\n",
            "2\n",
            "해당 /content/drive/My Drive/smallmerge/lsleeve/364.png이미지는 lsleeve으로 추정됩니다.\n",
            "========================================\n",
            "[0.079 0.063 0.313 0.275 0.269]\n",
            "2\n",
            "========================================\n",
            "[0.053 0.112 0.793 0.021 0.021]\n",
            "2\n",
            "해당 /content/drive/My Drive/smallmerge/lsleeve/378.png이미지는 lsleeve으로 추정됩니다.\n",
            "========================================\n",
            "[0.046 0.034 0.217 0.377 0.326]\n",
            "3\n",
            "========================================\n",
            "[0.000 0.000 0.000 1.000 0.000]\n",
            "3\n",
            "해당 /content/drive/My Drive/smallmerge/hood/207.png이미지는 hood으로 추정됩니다.\n",
            "========================================\n",
            "[0.000 0.000 0.000 1.000 0.000]\n",
            "3\n",
            "해당 /content/drive/My Drive/smallmerge/hood/28.png이미지는 hood으로 추정됩니다.\n",
            "========================================\n",
            "[0.115 0.145 0.341 0.225 0.174]\n",
            "2\n",
            "========================================\n",
            "[0.015 0.021 0.065 0.832 0.066]\n",
            "3\n",
            "해당 /content/drive/My Drive/smallmerge/hood/190.png이미지는 hood으로 추정됩니다.\n",
            "========================================\n",
            "[0.000 0.000 0.000 1.000 0.000]\n",
            "3\n",
            "해당 /content/drive/My Drive/smallmerge/hood/112.png이미지는 hood으로 추정됩니다.\n",
            "========================================\n",
            "[0.187 0.177 0.235 0.176 0.225]\n",
            "2\n",
            "========================================\n",
            "[0.000 0.000 0.000 1.000 0.000]\n",
            "3\n",
            "해당 /content/drive/My Drive/smallmerge/hood/12.png이미지는 hood으로 추정됩니다.\n",
            "========================================\n",
            "[0.000 0.000 0.000 1.000 0.000]\n",
            "3\n",
            "해당 /content/drive/My Drive/smallmerge/hood/25.png이미지는 hood으로 추정됩니다.\n",
            "========================================\n",
            "[0.123 0.268 0.210 0.223 0.176]\n",
            "1\n",
            "========================================\n",
            "[0.000 0.000 0.000 1.000 0.000]\n",
            "3\n",
            "해당 /content/drive/My Drive/smallmerge/hood/219.png이미지는 hood으로 추정됩니다.\n",
            "========================================\n",
            "[0.000 0.000 0.000 1.000 0.000]\n",
            "3\n",
            "해당 /content/drive/My Drive/smallmerge/hood/138.png이미지는 hood으로 추정됩니다.\n",
            "========================================\n",
            "[0.000 0.000 0.000 1.000 0.000]\n",
            "3\n",
            "해당 /content/drive/My Drive/smallmerge/hood/128.png이미지는 hood으로 추정됩니다.\n",
            "========================================\n",
            "[0.103 0.165 0.318 0.251 0.163]\n",
            "2\n",
            "========================================\n",
            "[0.000 0.000 0.000 1.000 0.000]\n",
            "3\n",
            "해당 /content/drive/My Drive/smallmerge/hood/92.png이미지는 hood으로 추정됩니다.\n",
            "========================================\n",
            "[0.000 0.000 0.000 1.000 0.000]\n",
            "3\n",
            "해당 /content/drive/My Drive/smallmerge/hood/31.png이미지는 hood으로 추정됩니다.\n",
            "========================================\n",
            "[0.007 0.009 0.044 0.904 0.036]\n",
            "3\n",
            "해당 /content/drive/My Drive/smallmerge/hood/309.png이미지는 hood으로 추정됩니다.\n",
            "========================================\n",
            "[0.000 0.000 0.000 1.000 0.000]\n",
            "3\n",
            "해당 /content/drive/My Drive/smallmerge/hood/225.png이미지는 hood으로 추정됩니다.\n",
            "========================================\n",
            "[0.104 0.519 0.261 0.056 0.060]\n",
            "1\n",
            "해당 /content/drive/My Drive/smallmerge/hood/277.png이미지는 nsleeve으로 추정됩니다.\n",
            "========================================\n",
            "[0.000 0.000 0.000 1.000 0.000]\n",
            "3\n",
            "해당 /content/drive/My Drive/smallmerge/hood/245.png이미지는 hood으로 추정됩니다.\n",
            "========================================\n",
            "[0.000 0.000 0.000 1.000 0.000]\n",
            "3\n",
            "해당 /content/drive/My Drive/smallmerge/hood/399.png이미지는 hood으로 추정됩니다.\n",
            "========================================\n",
            "[0.071 0.721 0.130 0.039 0.039]\n",
            "1\n",
            "해당 /content/drive/My Drive/smallmerge/hood/348.png이미지는 nsleeve으로 추정됩니다.\n",
            "========================================\n",
            "[0.002 0.002 0.016 0.960 0.019]\n",
            "3\n",
            "해당 /content/drive/My Drive/smallmerge/hood/425.png이미지는 hood으로 추정됩니다.\n",
            "========================================\n",
            "[0.000 0.000 0.000 1.000 0.000]\n",
            "3\n",
            "해당 /content/drive/My Drive/smallmerge/hood/395.png이미지는 hood으로 추정됩니다.\n",
            "========================================\n",
            "[0.089 0.096 0.176 0.338 0.300]\n",
            "3\n",
            "========================================\n",
            "[0.012 0.000 0.016 0.020 0.952]\n",
            "4\n",
            "해당 /content/drive/My Drive/smallmerge/collar/203.png이미지는 collar으로 추정됩니다.\n",
            "========================================\n",
            "[0.010 0.000 0.015 0.018 0.956]\n",
            "4\n",
            "해당 /content/drive/My Drive/smallmerge/collar/138.png이미지는 collar으로 추정됩니다.\n",
            "========================================\n",
            "[0.018 0.001 0.025 0.035 0.921]\n",
            "4\n",
            "해당 /content/drive/My Drive/smallmerge/collar/101.png이미지는 collar으로 추정됩니다.\n",
            "========================================\n",
            "[0.007 0.000 0.010 0.009 0.974]\n",
            "4\n",
            "해당 /content/drive/My Drive/smallmerge/collar/207.png이미지는 collar으로 추정됩니다.\n",
            "========================================\n",
            "[0.090 0.113 0.608 0.102 0.088]\n",
            "2\n",
            "해당 /content/drive/My Drive/smallmerge/collar/209.png이미지는 lsleeve으로 추정됩니다.\n",
            "========================================\n",
            "[0.046 0.029 0.117 0.334 0.474]\n",
            "4\n",
            "========================================\n",
            "[0.052 0.128 0.771 0.025 0.024]\n",
            "2\n",
            "해당 /content/drive/My Drive/smallmerge/collar/147.png이미지는 lsleeve으로 추정됩니다.\n",
            "========================================\n",
            "[0.084 0.128 0.307 0.343 0.139]\n",
            "3\n",
            "========================================\n",
            "[0.043 0.015 0.083 0.188 0.672]\n",
            "4\n",
            "해당 /content/drive/My Drive/smallmerge/collar/204.png이미지는 collar으로 추정됩니다.\n",
            "========================================\n",
            "[0.116 0.232 0.423 0.118 0.111]\n",
            "2\n",
            "========================================\n",
            "[0.030 0.875 0.066 0.016 0.014]\n",
            "1\n",
            "해당 /content/drive/My Drive/smallmerge/collar/103.png이미지는 nsleeve으로 추정됩니다.\n",
            "========================================\n",
            "[0.117 0.439 0.186 0.141 0.118]\n",
            "1\n",
            "========================================\n",
            "[0.002 0.000 0.003 0.002 0.992]\n",
            "4\n",
            "해당 /content/drive/My Drive/smallmerge/collar/92.png이미지는 collar으로 추정됩니다.\n",
            "========================================\n",
            "[0.012 0.000 0.016 0.017 0.955]\n",
            "4\n",
            "해당 /content/drive/My Drive/smallmerge/collar/96.png이미지는 collar으로 추정됩니다.\n",
            "========================================\n",
            "[0.005 0.000 0.010 0.011 0.975]\n",
            "4\n",
            "해당 /content/drive/My Drive/smallmerge/collar/71.png이미지는 collar으로 추정됩니다.\n",
            "========================================\n",
            "[0.013 0.002 0.045 0.120 0.820]\n",
            "4\n",
            "해당 /content/drive/My Drive/smallmerge/collar/60.png이미지는 collar으로 추정됩니다.\n",
            "========================================\n",
            "[0.646 0.127 0.178 0.008 0.041]\n",
            "0\n",
            "해당 /content/drive/My Drive/smallmerge/collar/383.png이미지는 ssleeve로 추정됩니다.\n",
            "========================================\n",
            "[0.724 0.110 0.091 0.011 0.063]\n",
            "0\n",
            "해당 /content/drive/My Drive/smallmerge/collar/396.png이미지는 ssleeve로 추정됩니다.\n",
            "========================================\n",
            "[0.039 0.055 0.872 0.016 0.017]\n",
            "2\n",
            "해당 /content/drive/My Drive/smallmerge/collar/352.png이미지는 lsleeve으로 추정됩니다.\n",
            "========================================\n",
            "[0.822 0.062 0.060 0.005 0.050]\n",
            "0\n",
            "해당 /content/drive/My Drive/smallmerge/collar/278.png이미지는 ssleeve로 추정됩니다.\n",
            "========================================\n",
            "[0.505 0.009 0.026 0.007 0.453]\n",
            "0\n",
            "해당 /content/drive/My Drive/smallmerge/collar/323.png이미지는 ssleeve로 추정됩니다.\n",
            "========================================\n",
            "[0.065 0.092 0.758 0.043 0.042]\n",
            "2\n",
            "해당 /content/drive/My Drive/smallmerge/collar/416.png이미지는 lsleeve으로 추정됩니다.\n",
            "========================================\n",
            "94\n"
          ],
          "name": "stdout"
        }
      ]
    },
    {
      "cell_type": "code",
      "metadata": {
        "id": "FKlzxreZKUWD"
      },
      "source": [
        "X_train = []\n",
        "Y_train = []\n",
        "X_test = []\n",
        "Y_test = []\n",
        "fileNames = []\n",
        "\n",
        "for idx, cat in enumerate(classNames):\n",
        "\n",
        "    label = [0 for i in range(len(classNames))]\n",
        "    label[idx] = 1\n",
        "\n",
        "    imgDir = dir + \"/\" + cat\n",
        "    files = glob.glob(imgDir+\"/*.png\")\n",
        "    print(cat, \" 파일 길이 : \", len(files))\n",
        "    for f in range(len(files)):\n",
        "        img = Image.open(files[f])\n",
        "        img = img.convert(\"RGB\")\n",
        "        data = np.asarray(img)\n",
        "        \n",
        "        if f >= 420:\n",
        "            fileNames.append(files[f])\n",
        "            X_test.append(data)\n",
        "            Y_test.append(label)\n",
        "            \n",
        "        else :\n",
        "            X_train.append(data)\n",
        "            Y_train.append(label)\n",
        "\n",
        "X_train = np.array(X_train)\n",
        "Y_train = np.array(Y_train)\n",
        "\n",
        "X_test = np.array(X_test)\n",
        "Y_test = np.array(Y_test)\n",
        "\n",
        "\n",
        "print(X_train)\n",
        "print(X_train.shape)\n",
        "print(Y_train.shape)\n",
        "\n",
        "print(\"ok\", len(X_train))"
      ],
      "execution_count": null,
      "outputs": []
    },
    {
      "cell_type": "code",
      "metadata": {
        "id": "EI1st0RY_-HK"
      },
      "source": [
        "from PIL import Image\n",
        "import os, glob, numpy as np\n",
        "from tensorflow.keras.models import load_model\n",
        "model = load_model('model.h5')\n",
        "\n",
        "prediction = model.predict(x_test)\n",
        "np.set_printoptions(formatter={'float': lambda x: \"{0:0.3f}\".format(x)})\n",
        "cnt = 0\n",
        "\n",
        "for i in prediction:\n",
        "    pre_ans = i.argmax()  # 예측 레이블\n",
        "    print(i)\n",
        "    print(pre_ans)\n",
        "    pre_ans_str = ''\n",
        "    if pre_ans == 0: pre_ans_str = \"ssleeve\"\n",
        "    elif pre_ans == 1: pre_ans_str = \"lsleeve\"\n",
        "    elif pre_ans == 2: pre_ans_str = \"nsleeve\"\n",
        "    elif pre_ans == 3: pre_ans_str = \"collar\"\n",
        "    elif pre_ans == 4: pre_ans_str = \"hood\"\n",
        "    elif pre_ans == 5: pre_ans_str = \"coat\"\n",
        "    elif pre_ans == 6: pre_ans_str = \"jacket\"\n",
        "    elif pre_ans == 7: pre_ans_str = \"lpadding\"\n",
        "    elif pre_ans == 8: pre_ans_str = \"spadding\"\n",
        "    elif pre_ans == 9: pre_ans_str = \"vest\"\n",
        "    elif pre_ans == 10: pre_ans_str = \"cardigan\"\n",
        "    elif pre_ans == 11: pre_ans_str = \"jsuit\"\n",
        "    elif pre_ans == 12: pre_ans_str = \"dress\"\n",
        "    elif pre_ans == 13: pre_ans_str = \"spants\"\n",
        "    elif pre_ans == 14: pre_ans_str = \"lpants\"\n",
        "    else: pre_ans_str = \"skirt\"\n",
        "    if i[0] >= 0.8 : print(\"해당 \"+fileNames[cnt].split(\"\\\\\")[0]+\"이미지는 \"+pre_ans_str+\"로 추정됩니다.\")\n",
        "    if i[1] >= 0.8: print(\"해당 \"+fileNames[cnt].split(\"\\\\\")[0]+\"이미지는 \"+pre_ans_str+\"으로 추정됩니다.\")\n",
        "    if i[2] >= 0.8: print(\"해당 \"+fileNames[cnt].split(\"\\\\\")[0]+\"이미지는 \"+pre_ans_str+\"으로 추정됩니다.\")\n",
        "    if i[3] >= 0.8: print(\"해당 \"+fileNames[cnt].split(\"\\\\\")[0]+\"이미지는 \"+pre_ans_str+\"으로 추정됩니다.\")\n",
        "    if i[4] >= 0.8: print(\"해당 \"+fileNames[cnt].split(\"\\\\\")[0]+\"이미지는 \"+pre_ans_str+\"으로 추정됩니다.\")\n",
        "    if i[5] >= 0.8: print(\"해당 \"+fileNames[cnt].split(\"\\\\\")[0]+\"이미지는 \"+pre_ans_str+\"으로 추정됩니다.\")\n",
        "    if i[6] >= 0.8: print(\"해당 \"+fileNames[cnt].split(\"\\\\\")[0]+\"이미지는 \"+pre_ans_str+\"으로 추정됩니다.\")\n",
        "    if i[7] >= 0.8: print(\"해당 \"+fileNames[cnt].split(\"\\\\\")[0]+\"이미지는 \"+pre_ans_str+\"으로 추정됩니다.\")\n",
        "    if i[8] >= 0.8: print(\"해당 \"+fileNames[cnt].split(\"\\\\\")[0]+\"이미지는 \"+pre_ans_str+\"으로 추정됩니다.\")\n",
        "    if i[9] >= 0.8: print(\"해당 \"+fileNames[cnt].split(\"\\\\\")[0]+\"이미지는 \"+pre_ans_str+\"으로 추정됩니다.\")\n",
        "    if i[10] >= 0.8: print(\"해당 \"+fileNames[cnt].split(\"\\\\\")[0]+\"이미지는 \"+pre_ans_str+\"으로 추정됩니다.\")\n",
        "    if i[11] >= 0.8: print(\"해당 \"+fileNames[cnt].split(\"\\\\\")[0]+\"이미지는 \"+pre_ans_str+\"으로 추정됩니다.\")\n",
        "    if i[12] >= 0.8: print(\"해당 \"+fileNames[cnt].split(\"\\\\\")[0]+\"이미지는 \"+pre_ans_str+\"으로 추정됩니다.\")\n",
        "    if i[13] >= 0.8: print(\"해당 \"+fileNames[cnt].split(\"\\\\\")[0]+\"이미지는 \"+pre_ans_str+\"으로 추정됩니다.\")\n",
        "    if i[14] >= 0.8: print(\"해당 \"+fileNames[cnt].split(\"\\\\\")[0]+\"이미지는 \"+pre_ans_str+\"으로 추정됩니다.\")\n",
        "    if i[15] >= 0.8: print(\"해당 \"+fileNames[cnt].split(\"\\\\\")[0]+\"이미지는 \"+pre_ans_str+\"으로 추정됩니다.\")\n",
        "    cnt += 1"
      ],
      "execution_count": null,
      "outputs": []
    },
    {
      "cell_type": "code",
      "metadata": {
        "colab": {
          "base_uri": "https://localhost:8080/",
          "height": 380
        },
        "id": "ch7G-zXjt--5",
        "outputId": "d9f45ecd-1c51-4e87-f508-ab626779d5f7"
      },
      "source": [
        "x_train = []\n",
        "y_train = []\n",
        "x_test = []\n",
        "y_test = []\n",
        "fileNames = []\n",
        "\n",
        "for idx, cat in enumerate(classNames):\n",
        "\n",
        "    label = [0 for i in range(len(classNames))]\n",
        "    label[idx] = 1\n",
        "\n",
        "    imgDir = dir + \"/\" + cat\n",
        "    files = glob.glob(imgDir+\"/*.png\")\n",
        "    print(cat, \" 파일 길이 : \", len(files))\n",
        "    for f in range(len(files)):\n",
        "        img = Image.open(files[f])\n",
        "        img = img.convert(\"RGB\")\n",
        "        data = np.asarray(img)\n",
        "        \n",
        "        if f >= 420:\n",
        "            fileNames.append(files[f])\n",
        "            x_test.append(data)\n",
        "            y_test.append(label)\n",
        "            \n",
        "        else :\n",
        "            x_train.append(data)\n",
        "            y_train.append(label)\n",
        "\n",
        "# for idx in range(16) :\n",
        "#     imgDir = dir + '/' + labelNames[idx]\n",
        "#     files = glob.glob(imgDir+\"/*.png\")\n",
        "#     print(\"파일 길이 : \", len(files))\n",
        "    \n",
        "#     for f in files:\n",
        "#         img = Image.open(f)\n",
        "#         img = img.convert(\"RGB\")\n",
        "#         data = np.asarray(img, np.int32)\n",
        "        \n",
        "#         label = np.zeros(16)\n",
        "#         label[idx] = 1\n",
        "        \n",
        "#         x.append(data)\n",
        "#         y.append(label)\n",
        "\n",
        "x_train = np.array(x_train)\n",
        "y_train = np.array(y_train)\n",
        "\n",
        "x_test = np.array(x_test)\n",
        "y_test = np.array(y_test)\n",
        "\n",
        "\n",
        "print(x_train)\n",
        "print(x_train.shape)\n",
        "print(y_train.shape)\n",
        "\n",
        "print(\"ok\", len(x_train))"
      ],
      "execution_count": null,
      "outputs": [
        {
          "output_type": "stream",
          "text": [
            "collar  파일 길이 :  450\n"
          ],
          "name": "stdout"
        },
        {
          "output_type": "error",
          "ename": "KeyboardInterrupt",
          "evalue": "ignored",
          "traceback": [
            "\u001b[0;31m---------------------------------------------------------------------------\u001b[0m",
            "\u001b[0;31mKeyboardInterrupt\u001b[0m                         Traceback (most recent call last)",
            "\u001b[0;32m<ipython-input-21-b59f9758b4cb>\u001b[0m in \u001b[0;36m<module>\u001b[0;34m()\u001b[0m\n\u001b[1;32m     14\u001b[0m     \u001b[0mprint\u001b[0m\u001b[0;34m(\u001b[0m\u001b[0mcat\u001b[0m\u001b[0;34m,\u001b[0m \u001b[0;34m\" 파일 길이 : \"\u001b[0m\u001b[0;34m,\u001b[0m \u001b[0mlen\u001b[0m\u001b[0;34m(\u001b[0m\u001b[0mfiles\u001b[0m\u001b[0;34m)\u001b[0m\u001b[0;34m)\u001b[0m\u001b[0;34m\u001b[0m\u001b[0;34m\u001b[0m\u001b[0m\n\u001b[1;32m     15\u001b[0m     \u001b[0;32mfor\u001b[0m \u001b[0mf\u001b[0m \u001b[0;32min\u001b[0m \u001b[0mrange\u001b[0m\u001b[0;34m(\u001b[0m\u001b[0mlen\u001b[0m\u001b[0;34m(\u001b[0m\u001b[0mfiles\u001b[0m\u001b[0;34m)\u001b[0m\u001b[0;34m)\u001b[0m\u001b[0;34m:\u001b[0m\u001b[0;34m\u001b[0m\u001b[0;34m\u001b[0m\u001b[0m\n\u001b[0;32m---> 16\u001b[0;31m         \u001b[0mimg\u001b[0m \u001b[0;34m=\u001b[0m \u001b[0mImage\u001b[0m\u001b[0;34m.\u001b[0m\u001b[0mopen\u001b[0m\u001b[0;34m(\u001b[0m\u001b[0mfiles\u001b[0m\u001b[0;34m[\u001b[0m\u001b[0mf\u001b[0m\u001b[0;34m]\u001b[0m\u001b[0;34m)\u001b[0m\u001b[0;34m\u001b[0m\u001b[0;34m\u001b[0m\u001b[0m\n\u001b[0m\u001b[1;32m     17\u001b[0m         \u001b[0mimg\u001b[0m \u001b[0;34m=\u001b[0m \u001b[0mimg\u001b[0m\u001b[0;34m.\u001b[0m\u001b[0mconvert\u001b[0m\u001b[0;34m(\u001b[0m\u001b[0;34m\"RGB\"\u001b[0m\u001b[0;34m)\u001b[0m\u001b[0;34m\u001b[0m\u001b[0;34m\u001b[0m\u001b[0m\n\u001b[1;32m     18\u001b[0m         \u001b[0mdata\u001b[0m \u001b[0;34m=\u001b[0m \u001b[0mnp\u001b[0m\u001b[0;34m.\u001b[0m\u001b[0masarray\u001b[0m\u001b[0;34m(\u001b[0m\u001b[0mimg\u001b[0m\u001b[0;34m)\u001b[0m\u001b[0;34m\u001b[0m\u001b[0;34m\u001b[0m\u001b[0m\n",
            "\u001b[0;32m/usr/local/lib/python3.6/dist-packages/PIL/Image.py\u001b[0m in \u001b[0;36mopen\u001b[0;34m(fp, mode)\u001b[0m\n\u001b[1;32m   2816\u001b[0m         \u001b[0mexclusive_fp\u001b[0m \u001b[0;34m=\u001b[0m \u001b[0;32mTrue\u001b[0m\u001b[0;34m\u001b[0m\u001b[0;34m\u001b[0m\u001b[0m\n\u001b[1;32m   2817\u001b[0m \u001b[0;34m\u001b[0m\u001b[0m\n\u001b[0;32m-> 2818\u001b[0;31m     \u001b[0mprefix\u001b[0m \u001b[0;34m=\u001b[0m \u001b[0mfp\u001b[0m\u001b[0;34m.\u001b[0m\u001b[0mread\u001b[0m\u001b[0;34m(\u001b[0m\u001b[0;36m16\u001b[0m\u001b[0;34m)\u001b[0m\u001b[0;34m\u001b[0m\u001b[0;34m\u001b[0m\u001b[0m\n\u001b[0m\u001b[1;32m   2819\u001b[0m \u001b[0;34m\u001b[0m\u001b[0m\n\u001b[1;32m   2820\u001b[0m     \u001b[0mpreinit\u001b[0m\u001b[0;34m(\u001b[0m\u001b[0;34m)\u001b[0m\u001b[0;34m\u001b[0m\u001b[0;34m\u001b[0m\u001b[0m\n",
            "\u001b[0;31mKeyboardInterrupt\u001b[0m: "
          ]
        }
      ]
    },
    {
      "cell_type": "code",
      "metadata": {
        "colab": {
          "base_uri": "https://localhost:8080/",
          "height": 292
        },
        "id": "7zYZpzKxkfDu",
        "outputId": "13601d5c-136e-45e0-f468-d8a430ab8d79"
      },
      "source": [
        "from PIL import Image\n",
        "import os, glob, numpy as np\n",
        "from tensorflow.keras.models import load_model\n",
        "\n",
        "prediction = model.predict(x_test)\n",
        "np.set_printoptions(formatter={'float': lambda x: \"{0:0.3f}\".format(x)})\n",
        "cnt = 0\n",
        "\n",
        "for i in prediction:\n",
        "    pre_ans = i.argmax()  # 예측 레이블\n",
        "    print(i)\n",
        "    print(pre_ans)\n",
        "    pre_ans_str = ''\n",
        "    if pre_ans == 0: pre_ans_str = \"ssleeve\"\n",
        "    elif pre_ans == 1: pre_ans_str = \"lsleeve\"\n",
        "    elif pre_ans == 2: pre_ans_str = \"nsleeve\"\n",
        "    elif pre_ans == 3: pre_ans_str = \"collar\"\n",
        "    elif pre_ans == 4: pre_ans_str = \"hood\"\n",
        "    elif pre_ans == 5: pre_ans_str = \"coat\"\n",
        "    elif pre_ans == 6: pre_ans_str = \"jacket\"\n",
        "    elif pre_ans == 7: pre_ans_str = \"lpadding\"\n",
        "    elif pre_ans == 8: pre_ans_str = \"spadding\"\n",
        "    elif pre_ans == 9: pre_ans_str = \"vest\"\n",
        "    elif pre_ans == 10: pre_ans_str = \"cardigan\"\n",
        "    elif pre_ans == 11: pre_ans_str = \"jsuit\"\n",
        "    elif pre_ans == 12: pre_ans_str = \"dress\"\n",
        "    elif pre_ans == 13: pre_ans_str = \"spants\"\n",
        "    elif pre_ans == 14: pre_ans_str = \"lpants\"\n",
        "    else: pre_ans_str = \"skirt\"\n",
        "    if i[0] >= 0.8 : print(\"해당 \"+fileNames[cnt].split(\"\\\\\")[0]+\"이미지는 \"+pre_ans_str+\"로 추정됩니다.\")\n",
        "    if i[1] >= 0.8: print(\"해당 \"+fileNames[cnt].split(\"\\\\\")[0]+\"이미지는 \"+pre_ans_str+\"으로 추정됩니다.\")\n",
        "    if i[2] >= 0.8: print(\"해당 \"+fileNames[cnt].split(\"\\\\\")[0]+\"이미지는 \"+pre_ans_str+\"으로 추정됩니다.\")\n",
        "    if i[3] >= 0.8: print(\"해당 \"+fileNames[cnt].split(\"\\\\\")[0]+\"이미지는 \"+pre_ans_str+\"으로 추정됩니다.\")\n",
        "    if i[4] >= 0.8: print(\"해당 \"+fileNames[cnt].split(\"\\\\\")[0]+\"이미지는 \"+pre_ans_str+\"으로 추정됩니다.\")\n",
        "    if i[5] >= 0.8: print(\"해당 \"+fileNames[cnt].split(\"\\\\\")[0]+\"이미지는 \"+pre_ans_str+\"으로 추정됩니다.\")\n",
        "    if i[6] >= 0.8: print(\"해당 \"+fileNames[cnt].split(\"\\\\\")[0]+\"이미지는 \"+pre_ans_str+\"으로 추정됩니다.\")\n",
        "    if i[7] >= 0.8: print(\"해당 \"+fileNames[cnt].split(\"\\\\\")[0]+\"이미지는 \"+pre_ans_str+\"으로 추정됩니다.\")\n",
        "    if i[8] >= 0.8: print(\"해당 \"+fileNames[cnt].split(\"\\\\\")[0]+\"이미지는 \"+pre_ans_str+\"으로 추정됩니다.\")\n",
        "    if i[9] >= 0.8: print(\"해당 \"+fileNames[cnt].split(\"\\\\\")[0]+\"이미지는 \"+pre_ans_str+\"으로 추정됩니다.\")\n",
        "    if i[10] >= 0.8: print(\"해당 \"+fileNames[cnt].split(\"\\\\\")[0]+\"이미지는 \"+pre_ans_str+\"으로 추정됩니다.\")\n",
        "    if i[11] >= 0.8: print(\"해당 \"+fileNames[cnt].split(\"\\\\\")[0]+\"이미지는 \"+pre_ans_str+\"으로 추정됩니다.\")\n",
        "    if i[12] >= 0.8: print(\"해당 \"+fileNames[cnt].split(\"\\\\\")[0]+\"이미지는 \"+pre_ans_str+\"으로 추정됩니다.\")\n",
        "    if i[13] >= 0.8: print(\"해당 \"+fileNames[cnt].split(\"\\\\\")[0]+\"이미지는 \"+pre_ans_str+\"으로 추정됩니다.\")\n",
        "    if i[14] >= 0.8: print(\"해당 \"+fileNames[cnt].split(\"\\\\\")[0]+\"이미지는 \"+pre_ans_str+\"으로 추정됩니다.\")\n",
        "    if i[15] >= 0.8: print(\"해당 \"+fileNames[cnt].split(\"\\\\\")[0]+\"이미지는 \"+pre_ans_str+\"으로 추정됩니다.\")\n",
        "    cnt += 1"
      ],
      "execution_count": null,
      "outputs": [
        {
          "output_type": "stream",
          "text": [
            "[0.000 0.000 0.000 0.000 0.000 0.000 0.000 0.000 1.000 0.000 0.000 0.000\n",
            " 0.000 0.000 0.000 0.000]\n",
            "8\n"
          ],
          "name": "stdout"
        },
        {
          "output_type": "error",
          "ename": "NameError",
          "evalue": "ignored",
          "traceback": [
            "\u001b[0;31m---------------------------------------------------------------------------\u001b[0m",
            "\u001b[0;31mNameError\u001b[0m                                 Traceback (most recent call last)",
            "\u001b[0;32m<ipython-input-17-cd6fcf7a6dac>\u001b[0m in \u001b[0;36m<module>\u001b[0;34m()\u001b[0m\n\u001b[1;32m     36\u001b[0m     \u001b[0;32mif\u001b[0m \u001b[0mi\u001b[0m\u001b[0;34m[\u001b[0m\u001b[0;36m6\u001b[0m\u001b[0;34m]\u001b[0m \u001b[0;34m>=\u001b[0m \u001b[0;36m0.8\u001b[0m\u001b[0;34m:\u001b[0m \u001b[0mprint\u001b[0m\u001b[0;34m(\u001b[0m\u001b[0;34m\"해당 \"\u001b[0m\u001b[0;34m+\u001b[0m\u001b[0mfileNames\u001b[0m\u001b[0;34m[\u001b[0m\u001b[0mcnt\u001b[0m\u001b[0;34m]\u001b[0m\u001b[0;34m.\u001b[0m\u001b[0msplit\u001b[0m\u001b[0;34m(\u001b[0m\u001b[0;34m\"\\\\\"\u001b[0m\u001b[0;34m)\u001b[0m\u001b[0;34m[\u001b[0m\u001b[0;36m0\u001b[0m\u001b[0;34m]\u001b[0m\u001b[0;34m+\u001b[0m\u001b[0;34m\"이미지는 \"\u001b[0m\u001b[0;34m+\u001b[0m\u001b[0mpre_ans_str\u001b[0m\u001b[0;34m+\u001b[0m\u001b[0;34m\"으로 추정됩니다.\"\u001b[0m\u001b[0;34m)\u001b[0m\u001b[0;34m\u001b[0m\u001b[0;34m\u001b[0m\u001b[0m\n\u001b[1;32m     37\u001b[0m     \u001b[0;32mif\u001b[0m \u001b[0mi\u001b[0m\u001b[0;34m[\u001b[0m\u001b[0;36m7\u001b[0m\u001b[0;34m]\u001b[0m \u001b[0;34m>=\u001b[0m \u001b[0;36m0.8\u001b[0m\u001b[0;34m:\u001b[0m \u001b[0mprint\u001b[0m\u001b[0;34m(\u001b[0m\u001b[0;34m\"해당 \"\u001b[0m\u001b[0;34m+\u001b[0m\u001b[0mfileNames\u001b[0m\u001b[0;34m[\u001b[0m\u001b[0mcnt\u001b[0m\u001b[0;34m]\u001b[0m\u001b[0;34m.\u001b[0m\u001b[0msplit\u001b[0m\u001b[0;34m(\u001b[0m\u001b[0;34m\"\\\\\"\u001b[0m\u001b[0;34m)\u001b[0m\u001b[0;34m[\u001b[0m\u001b[0;36m0\u001b[0m\u001b[0;34m]\u001b[0m\u001b[0;34m+\u001b[0m\u001b[0;34m\"이미지는 \"\u001b[0m\u001b[0;34m+\u001b[0m\u001b[0mpre_ans_str\u001b[0m\u001b[0;34m+\u001b[0m\u001b[0;34m\"으로 추정됩니다.\"\u001b[0m\u001b[0;34m)\u001b[0m\u001b[0;34m\u001b[0m\u001b[0;34m\u001b[0m\u001b[0m\n\u001b[0;32m---> 38\u001b[0;31m     \u001b[0;32mif\u001b[0m \u001b[0mi\u001b[0m\u001b[0;34m[\u001b[0m\u001b[0;36m8\u001b[0m\u001b[0;34m]\u001b[0m \u001b[0;34m>=\u001b[0m \u001b[0;36m0.8\u001b[0m\u001b[0;34m:\u001b[0m \u001b[0mprint\u001b[0m\u001b[0;34m(\u001b[0m\u001b[0;34m\"해당 \"\u001b[0m\u001b[0;34m+\u001b[0m\u001b[0mfileNames\u001b[0m\u001b[0;34m[\u001b[0m\u001b[0mcnt\u001b[0m\u001b[0;34m]\u001b[0m\u001b[0;34m.\u001b[0m\u001b[0msplit\u001b[0m\u001b[0;34m(\u001b[0m\u001b[0;34m\"\\\\\"\u001b[0m\u001b[0;34m)\u001b[0m\u001b[0;34m[\u001b[0m\u001b[0;36m0\u001b[0m\u001b[0;34m]\u001b[0m\u001b[0;34m+\u001b[0m\u001b[0;34m\"이미지는 \"\u001b[0m\u001b[0;34m+\u001b[0m\u001b[0mpre_ans_str\u001b[0m\u001b[0;34m+\u001b[0m\u001b[0;34m\"으로 추정됩니다.\"\u001b[0m\u001b[0;34m)\u001b[0m\u001b[0;34m\u001b[0m\u001b[0;34m\u001b[0m\u001b[0m\n\u001b[0m\u001b[1;32m     39\u001b[0m     \u001b[0;32mif\u001b[0m \u001b[0mi\u001b[0m\u001b[0;34m[\u001b[0m\u001b[0;36m9\u001b[0m\u001b[0;34m]\u001b[0m \u001b[0;34m>=\u001b[0m \u001b[0;36m0.8\u001b[0m\u001b[0;34m:\u001b[0m \u001b[0mprint\u001b[0m\u001b[0;34m(\u001b[0m\u001b[0;34m\"해당 \"\u001b[0m\u001b[0;34m+\u001b[0m\u001b[0mfileNames\u001b[0m\u001b[0;34m[\u001b[0m\u001b[0mcnt\u001b[0m\u001b[0;34m]\u001b[0m\u001b[0;34m.\u001b[0m\u001b[0msplit\u001b[0m\u001b[0;34m(\u001b[0m\u001b[0;34m\"\\\\\"\u001b[0m\u001b[0;34m)\u001b[0m\u001b[0;34m[\u001b[0m\u001b[0;36m0\u001b[0m\u001b[0;34m]\u001b[0m\u001b[0;34m+\u001b[0m\u001b[0;34m\"이미지는 \"\u001b[0m\u001b[0;34m+\u001b[0m\u001b[0mpre_ans_str\u001b[0m\u001b[0;34m+\u001b[0m\u001b[0;34m\"으로 추정됩니다.\"\u001b[0m\u001b[0;34m)\u001b[0m\u001b[0;34m\u001b[0m\u001b[0;34m\u001b[0m\u001b[0m\n\u001b[1;32m     40\u001b[0m     \u001b[0;32mif\u001b[0m \u001b[0mi\u001b[0m\u001b[0;34m[\u001b[0m\u001b[0;36m10\u001b[0m\u001b[0;34m]\u001b[0m \u001b[0;34m>=\u001b[0m \u001b[0;36m0.8\u001b[0m\u001b[0;34m:\u001b[0m \u001b[0mprint\u001b[0m\u001b[0;34m(\u001b[0m\u001b[0;34m\"해당 \"\u001b[0m\u001b[0;34m+\u001b[0m\u001b[0mfileNames\u001b[0m\u001b[0;34m[\u001b[0m\u001b[0mcnt\u001b[0m\u001b[0;34m]\u001b[0m\u001b[0;34m.\u001b[0m\u001b[0msplit\u001b[0m\u001b[0;34m(\u001b[0m\u001b[0;34m\"\\\\\"\u001b[0m\u001b[0;34m)\u001b[0m\u001b[0;34m[\u001b[0m\u001b[0;36m0\u001b[0m\u001b[0;34m]\u001b[0m\u001b[0;34m+\u001b[0m\u001b[0;34m\"이미지는 \"\u001b[0m\u001b[0;34m+\u001b[0m\u001b[0mpre_ans_str\u001b[0m\u001b[0;34m+\u001b[0m\u001b[0;34m\"으로 추정됩니다.\"\u001b[0m\u001b[0;34m)\u001b[0m\u001b[0;34m\u001b[0m\u001b[0;34m\u001b[0m\u001b[0m\n",
            "\u001b[0;31mNameError\u001b[0m: name 'fileNames' is not defined"
          ]
        }
      ]
    }
  ]
}